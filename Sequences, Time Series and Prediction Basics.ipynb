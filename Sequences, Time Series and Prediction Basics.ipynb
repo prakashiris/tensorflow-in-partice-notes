{
 "cells": [
  {
   "cell_type": "markdown",
   "metadata": {},
   "source": [
    "### `Sequences, Time  Series and Prediction\n",
    "\n",
    "Now these are just a few examples of the types of things that can be\n",
    "analyzed using time series.\n",
    "And just about anything that has a time factor in it can be analyzed in this way.\n",
    "So what types of things can we do with machine learning over time series?\n",
    "\n",
    "\n",
    "The **first** and most obvious is **prediction of forecasting** based on the data.\n",
    "So for example with the birth and death rate chart for Japan that we showed earlier.\n",
    "\n",
    "It would be very useful to **predict future** values so that government agencies can\n",
    "plan for retirement, immigration and other societal impacts of these trends.\n",
    "\n",
    "In some cases, you might also want to **project back into the past** to see how we got to where we are now.\n",
    "This process is called **imputation**.\n",
    "\n",
    "\n",
    "For example, in our **Moore's law chart** from earlier.\n",
    "There was no data for some years because there were no chips released in those\n",
    "years, and you can see the gaps here.\n",
    "\n",
    "But with imputation, we can fill them up.\n",
    "Additionally, time series prediction can be used to detect anomalies.\n",
    "\n",
    "For example, in **website logs** so that you could see potential denial of\n",
    "**service attacks** showing up as a spike on the time series like this.\n",
    "\n",
    "A classic example of this is to **analyze sound waves** to spot words in them\n",
    "which can be used as a neural network for **speech recognition**.\n",
    "Here for example, you can see how a sound wave is split into words.\n",
    "Using machine learning, it becomes possible to train a neural network\n",
    "based on the time series to recognize words or sub words. "
   ]
  },
  {
   "cell_type": "code",
   "execution_count": 1,
   "metadata": {},
   "outputs": [],
   "source": [
    "import numpy as np\n",
    "import matplotlib.pyplot as plt\n",
    "import tensorflow as tf\n",
    "from tensorflow import keras"
   ]
  },
  {
   "cell_type": "code",
   "execution_count": 3,
   "metadata": {},
   "outputs": [],
   "source": [
    "def plot_series(time, series, format=\"-\", start = 0, \n",
    "                end =  None, label = None):\n",
    "    plt.plot(time[start:end], series[start:end], format, label-label)\n",
    "    plt.xlabel(\"Time\")\n",
    "    plt.ylabel(\"Value\")\n",
    "    plt.title(\"Line series\")\n",
    "    plt.grid(True) \n",
    "    plt.show()"
   ]
  },
  {
   "cell_type": "markdown",
   "metadata": {},
   "source": [
    "##### Trends\n",
    "An overall direction for data regardless of direction"
   ]
  },
  {
   "cell_type": "code",
   "execution_count": 4,
   "metadata": {},
   "outputs": [],
   "source": [
    "def trend(time ,slope=0):\n",
    "    return(slope * time)"
   ]
  },
  {
   "cell_type": "code",
   "execution_count": 16,
   "metadata": {},
   "outputs": [
    {
     "ename": "TypeError",
     "evalue": "unsupported operand type(s) for -: 'NoneType' and 'NoneType'",
     "output_type": "error",
     "traceback": [
      "\u001b[0;31m---------------------------------------------------------------------------\u001b[0m",
      "\u001b[0;31mTypeError\u001b[0m                                 Traceback (most recent call last)",
      "\u001b[0;32m<ipython-input-16-c3f208d438ec>\u001b[0m in \u001b[0;36m<module>\u001b[0;34m\u001b[0m\n\u001b[1;32m      2\u001b[0m \u001b[0mbaseline\u001b[0m \u001b[0;34m=\u001b[0m \u001b[0;36m10\u001b[0m\u001b[0;34m\u001b[0m\u001b[0;34m\u001b[0m\u001b[0m\n\u001b[1;32m      3\u001b[0m \u001b[0mseries\u001b[0m  \u001b[0;34m=\u001b[0m \u001b[0mtrend\u001b[0m\u001b[0;34m(\u001b[0m\u001b[0mtime\u001b[0m\u001b[0;34m,\u001b[0m \u001b[0;36m0.1\u001b[0m\u001b[0;34m)\u001b[0m\u001b[0;34m\u001b[0m\u001b[0;34m\u001b[0m\u001b[0m\n\u001b[0;32m----> 4\u001b[0;31m \u001b[0mplot_series\u001b[0m\u001b[0;34m(\u001b[0m\u001b[0mtime\u001b[0m\u001b[0;34m,\u001b[0m\u001b[0mseries\u001b[0m\u001b[0;34m)\u001b[0m\u001b[0;34m\u001b[0m\u001b[0;34m\u001b[0m\u001b[0m\n\u001b[0m",
      "\u001b[0;32m<ipython-input-3-d5a0b0335e4d>\u001b[0m in \u001b[0;36mplot_series\u001b[0;34m(time, series, format, start, end, label)\u001b[0m\n\u001b[1;32m      1\u001b[0m def plot_series(time, series, format=\"-\", start = 0, \n\u001b[1;32m      2\u001b[0m                 end =  None, label = None):\n\u001b[0;32m----> 3\u001b[0;31m     \u001b[0mplt\u001b[0m\u001b[0;34m.\u001b[0m\u001b[0mplot\u001b[0m\u001b[0;34m(\u001b[0m\u001b[0mtime\u001b[0m\u001b[0;34m[\u001b[0m\u001b[0mstart\u001b[0m\u001b[0;34m:\u001b[0m\u001b[0mend\u001b[0m\u001b[0;34m]\u001b[0m\u001b[0;34m,\u001b[0m \u001b[0mseries\u001b[0m\u001b[0;34m[\u001b[0m\u001b[0mstart\u001b[0m\u001b[0;34m:\u001b[0m\u001b[0mend\u001b[0m\u001b[0;34m]\u001b[0m\u001b[0;34m,\u001b[0m \u001b[0mformat\u001b[0m\u001b[0;34m,\u001b[0m \u001b[0mlabel\u001b[0m\u001b[0;34m-\u001b[0m\u001b[0mlabel\u001b[0m\u001b[0;34m)\u001b[0m\u001b[0;34m\u001b[0m\u001b[0;34m\u001b[0m\u001b[0m\n\u001b[0m\u001b[1;32m      4\u001b[0m     \u001b[0mplt\u001b[0m\u001b[0;34m.\u001b[0m\u001b[0mxlabel\u001b[0m\u001b[0;34m(\u001b[0m\u001b[0;34m\"Time\"\u001b[0m\u001b[0;34m)\u001b[0m\u001b[0;34m\u001b[0m\u001b[0;34m\u001b[0m\u001b[0m\n\u001b[1;32m      5\u001b[0m     \u001b[0mplt\u001b[0m\u001b[0;34m.\u001b[0m\u001b[0mylabel\u001b[0m\u001b[0;34m(\u001b[0m\u001b[0;34m\"Value\"\u001b[0m\u001b[0;34m)\u001b[0m\u001b[0;34m\u001b[0m\u001b[0;34m\u001b[0m\u001b[0m\n",
      "\u001b[0;31mTypeError\u001b[0m: unsupported operand type(s) for -: 'NoneType' and 'NoneType'"
     ]
    }
   ],
   "source": [
    "time = np.arange(4 * 365 +1)\n",
    "baseline = 10\n",
    "series  = trend(time, 0.1)\n",
    "plot_series(time,series)"
   ]
  },
  {
   "cell_type": "code",
   "execution_count": 13,
   "metadata": {},
   "outputs": [
    {
     "name": "stdout",
     "output_type": "stream",
     "text": [
      "a 1\n",
      "2\n",
      "a 2\n",
      "4\n",
      "a 4\n",
      "8\n",
      "a 8\n",
      "16\n",
      "a 16\n",
      "32\n"
     ]
    }
   ],
   "source": []
  },
  {
   "cell_type": "code",
   "execution_count": 14,
   "metadata": {},
   "outputs": [
    {
     "name": "stdout",
     "output_type": "stream",
     "text": [
      "a 1\n",
      "1\n",
      "a 1\n",
      "2\n",
      "a 2\n",
      "3\n",
      "a 3\n",
      "5\n",
      "a 5\n",
      "8\n",
      "a 8\n",
      "13\n",
      "a 13\n",
      "21\n"
     ]
    }
   ],
   "source": []
  },
  {
   "cell_type": "code",
   "execution_count": null,
   "metadata": {},
   "outputs": [],
   "source": []
  },
  {
   "cell_type": "code",
   "execution_count": null,
   "metadata": {},
   "outputs": [],
   "source": []
  },
  {
   "cell_type": "code",
   "execution_count": null,
   "metadata": {},
   "outputs": [],
   "source": []
  },
  {
   "cell_type": "code",
   "execution_count": null,
   "metadata": {},
   "outputs": [],
   "source": []
  },
  {
   "cell_type": "code",
   "execution_count": null,
   "metadata": {},
   "outputs": [],
   "source": []
  },
  {
   "cell_type": "code",
   "execution_count": null,
   "metadata": {},
   "outputs": [],
   "source": []
  },
  {
   "cell_type": "code",
   "execution_count": null,
   "metadata": {},
   "outputs": [],
   "source": [
    "A regular change in shape of data\n",
    "\n",
    "\n",
    "\n",
    "Data that followsa predictable shape, even if the scale is different\n",
    "\n",
    "One that has a disruptive event breaking trend and seasonality"
   ]
  }
 ],
 "metadata": {
  "kernelspec": {
   "display_name": "Python 3",
   "language": "python",
   "name": "python3"
  },
  "language_info": {
   "codemirror_mode": {
    "name": "ipython",
    "version": 3
   },
   "file_extension": ".py",
   "mimetype": "text/x-python",
   "name": "python",
   "nbconvert_exporter": "python",
   "pygments_lexer": "ipython3",
   "version": "3.7.3"
  }
 },
 "nbformat": 4,
 "nbformat_minor": 2
}
